{
 "cells": [
  {
   "cell_type": "markdown",
   "metadata": {},
   "source": [
    "# Condicionales\n",
    "\n",
    "De forma predeterminada, las instrucciones en el script de Python se ejecutan secuencialmente de arriba a abajo. \n",
    "Si la lógica de procesamiento lo requiere, el flujo secuencial de ejecución se puede modificar de dos maneras:\n",
    "\n",
    "Ejecución condicional: se ejecutará un bloque de una o más sentencias si una determinada expresión es verdadera\n",
    "Ejecución repetitiva: un bloque de una o más sentencias se ejecutará de forma repetitiva siempre que una determinada expresión sea verdadera. En esta sección, cubriremos if, else, declaraciones elif. \n",
    "La comparación y los operadores lógicos que aprendimos en las secciones anteriores serán útiles aquí."
   ]
  },
  {
   "cell_type": "markdown",
   "metadata": {},
   "source": [
    "# If Condition\n",
    "\n",
    "- En python y otros lenguajes de programación, \n",
    "- La palabra clave if se utiliza para comprobar si una condición es verdadera y en ese caso ejecutar el código del bloque asociado. \n",
    "- Recuerde la identacion después de los dos puntos.\n",
    "\n",
    "# Sintaxis: \n",
    "\n",
    "#if condition:\n",
    "\n",
    "        #Esta bloque de codigo se ejecutará si la condicion resulta ser verdadera"
   ]
  },
  {
   "cell_type": "code",
   "execution_count": 1,
   "metadata": {},
   "outputs": [
    {
     "name": "stdout",
     "output_type": "stream",
     "text": [
      "A es un numero positivo\n"
     ]
    }
   ],
   "source": [
    "a = 3\n",
    "if a > 0:                                 #Se evaluará la condicion a > 0, la cual es verdadera ya que a vale 3 y 3 es mayor que 0, resultado de eso imprimirá el texto\n",
    "    print('A es un numero positivo')  \n",
    "\n",
    "#Sin embargo, si la condición es falsa, no vemos el resultado. Para ver el resultado de la condición en caso de ser falso, debemos tener otro bloque llamado:"
   ]
  },
  {
   "cell_type": "markdown",
   "metadata": {},
   "source": [
    "# If Else"
   ]
  },
  {
   "cell_type": "code",
   "execution_count": 2,
   "metadata": {},
   "outputs": [
    {
     "name": "stdout",
     "output_type": "stream",
     "text": [
      "A es un numero positivo\n"
     ]
    }
   ],
   "source": [
    "#Si la condición es verdadera, se ejecutará el primer bloque, si no, se ejecutará la condición else.\n",
    "\n",
    "#if condition:\n",
    "    #Si la condicion es verdadera se ejecutara el bloque de codigo que este aquí\n",
    "#else:\n",
    "     #En caso de que la condicion sea falsa se saltará lo de arriba y ejecutará el bloque de codigo que esté aquí\n",
    "\n",
    "a = 3\n",
    "\n",
    "if a < 0:\n",
    "    print('A is un numero negativo')  #Como podemos ver se evalua la condicion a < 0, la cual es falsa ya que a vale 3 y 3 no es menor que 0 por lo que\n",
    "else:                                 #Se salta lo de arriba y pasa al else, lo cual ejecutará el bloque de codigo del else y imprimirá en pantalla que A es positivo\n",
    "    print('A es un numero positivo')"
   ]
  },
  {
   "cell_type": "markdown",
   "metadata": {},
   "source": [
    "# elif\n",
    "\n",
    "En nuestra vida diaria, tomamos decisiones a diario. Tomamos decisiones no comprobando una o dos condiciones, sino varias condiciones. Al igual que en la vida, \n",
    "\n",
    "La programación también está llena de condiciones. Usamos elif cuando tenemos varias condiciones."
   ]
  },
  {
   "cell_type": "code",
   "execution_count": 6,
   "metadata": {},
   "outputs": [
    {
     "name": "stdout",
     "output_type": "stream",
     "text": [
      "A is zero\n"
     ]
    }
   ],
   "source": [
    "#Sintaxis:\n",
    "\n",
    "#if condition:                    #Evaluará esta condicion, la cual si es verdadera ejecutará bloque de codigo1 y se sale del condicional.\n",
    "    #bloque de codigo1\n",
    "#elif condition:                   #En caso de ser falso pasa pará acá y evalua la condicion del elif, lo cual si es verdadera ejecutará bloque de codigo2, y si es falso pasa al else\n",
    "    #bloque de codigo2\n",
    "#else:\n",
    "    #bloque de codigo3            #Y si la condicion del elif no fue verdadero tampoco terminará haciendo lo que esté en el bloque de codigo 3\n",
    "\n",
    "#Ejemplo\n",
    "\n",
    "a = 0\n",
    "if a > 0:\n",
    "    print('A is a positive number')\n",
    "elif a < 0:\n",
    "    print('A is a negative number')\n",
    "else:\n",
    "    print('A is zero')"
   ]
  },
  {
   "cell_type": "markdown",
   "metadata": {},
   "source": [
    "# Anidar condicionales"
   ]
  },
  {
   "cell_type": "code",
   "execution_count": 5,
   "metadata": {},
   "outputs": [
    {
     "name": "stdout",
     "output_type": "stream",
     "text": [
      "A is a negative number\n"
     ]
    }
   ],
   "source": [
    "#if condition:\n",
    "    #code\n",
    "    #if condition:\n",
    "    #code\n",
    "\n",
    "#Ejemplo\n",
    "\n",
    "a = -1 \n",
    "if a > 0:\n",
    "    if a % 2 == 0:\n",
    "        print('A is a positive and even integer')\n",
    "    else:\n",
    "        print('A is a positive number')\n",
    "elif a == 0:\n",
    "    print('A is zero')\n",
    "else:\n",
    "    print('A is a negative number')"
   ]
  },
  {
   "cell_type": "markdown",
   "metadata": {},
   "source": [
    "- Esto puede ser util para evaluar varias condiciones una cosa en concreto, en este caso estamos pidiendo que si el numero es mayor ejecute su bloque de codigo el cual\n",
    "- es otro condicional que evaluará ese mismo numero pero ahora preguntará si es par, en caso de ser afirmativo imprimirá que el numero es positivo y es par\n",
    "- en caso de que la condicion a % 2 sea falsa dirá que es solo positivo(porque recordemos que si llego a ese punto es porque a > 0 fue verdadero)\n",
    "\n",
    "- ahora si bien se puede hacer lo explicado anteriomente tambien se puede unir varias condiciones usando operadores logicos "
   ]
  },
  {
   "cell_type": "markdown",
   "metadata": {},
   "source": [
    "# if condition and condition:"
   ]
  },
  {
   "cell_type": "code",
   "execution_count": 4,
   "metadata": {},
   "outputs": [
    {
     "name": "stdout",
     "output_type": "stream",
     "text": [
      "A is zero\n"
     ]
    }
   ],
   "source": [
    "a = 0\n",
    "if a > 0 and a % 2 == 0:\n",
    "        print('A is an even and positive integer')\n",
    "elif a > 0 and a % 2 !=  0:\n",
    "     print('A is a positive integer')\n",
    "elif a == 0:\n",
    "    print('A is zero')\n",
    "else:\n",
    "    print('A is negative')"
   ]
  },
  {
   "cell_type": "markdown",
   "metadata": {},
   "source": [
    "- Podemos ver que unimos la condicion a > 0 con a % 2 usando el AND la cual en caso de ambas condiciones ser verdaderas es que imprimirá que a es positivo y par\n",
    "- Si bien es muy parecido si se fijan en este no podemos poner el else que tenia el print(\"Es un numero positivo\") \n",
    "- Asi que ambas cosas son muy parecidas pero si tiene sus pequeñas diferencias, asi que aqui es la imaginacion tuya la que dirá cual te conviene más"
   ]
  },
  {
   "cell_type": "markdown",
   "metadata": {},
   "source": [
    "# Usando el Operador logico OR"
   ]
  },
  {
   "cell_type": "code",
   "execution_count": 3,
   "metadata": {},
   "outputs": [
    {
     "name": "stdout",
     "output_type": "stream",
     "text": [
      "Access denied!\n"
     ]
    }
   ],
   "source": [
    "user = 'James'\n",
    "access_level = 3\n",
    "if user == 'admin' or access_level >= 4:\n",
    "        print('Access granted!')\n",
    "else:\n",
    "    print('Access denied!')"
   ]
  }
 ],
 "metadata": {
  "kernelspec": {
   "display_name": "Python 3",
   "language": "python",
   "name": "python3"
  },
  "language_info": {
   "codemirror_mode": {
    "name": "ipython",
    "version": 3
   },
   "file_extension": ".py",
   "mimetype": "text/x-python",
   "name": "python",
   "nbconvert_exporter": "python",
   "pygments_lexer": "ipython3",
   "version": "3.13.0"
  }
 },
 "nbformat": 4,
 "nbformat_minor": 2
}

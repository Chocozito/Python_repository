{
 "cells": [
  {
   "cell_type": "markdown",
   "metadata": {},
   "source": [
    "# startswith y Endwith\n",
    "\n",
    "- Averigüe si la cadena comienza con los caracteres especificados:\n",
    "- Retorna True o False"
   ]
  },
  {
   "cell_type": "code",
   "execution_count": null,
   "metadata": {},
   "outputs": [],
   "source": [
    "letras = 'ABCDEFGHIJKLMNOPQRSTUVWXYZ'\n",
    "\n",
    "print(letras.startswith('ABC')) \n",
    "print(letras.startswith('XYZ'))\n",
    "\n",
    "print(letras.endswith('XYZ')) \n",
    "print(letras.endswith('ABC'))"
   ]
  },
  {
   "cell_type": "markdown",
   "metadata": {},
   "source": [
    "# Rebanada de texto"
   ]
  },
  {
   "cell_type": "code",
   "execution_count": 2,
   "metadata": {},
   "outputs": [
    {
     "name": "stdout",
     "output_type": "stream",
     "text": [
      "BCDE\n",
      "BCDEF\n",
      "False\n",
      "True\n",
      "False\n",
      "True\n"
     ]
    }
   ],
   "source": [
    "letras = 'ABCDEFGHIJKLMNOPQRSTUVWXYZ'\n",
    "\n",
    "print(letras[1:5]) #Recordemos que la rebana va de min_indice hasta max_indice - 1, aunque aqui se rebana hasta el indice 5, realmente rebana hasta 4 por eso no muestra la F\n",
    "print(letras[1:6]) \n",
    "\n",
    "print(letras.endswith('F', 1, 5))\n",
    "print(letras.endswith('F', 1, 6))\n",
    "\n",
    "print(letras[3:5][-1] == 'F')\n",
    "print(letras[3:6][-1] == 'F')"
   ]
  },
  {
   "cell_type": "markdown",
   "metadata": {},
   "source": [
    "# Capitalize"
   ]
  },
  {
   "cell_type": "code",
   "execution_count": 3,
   "metadata": {},
   "outputs": [
    {
     "name": "stdout",
     "output_type": "stream",
     "text": [
      "Hola mundo.bienvenidos,todos4you\n"
     ]
    }
   ],
   "source": [
    "s = 'hoLA mundo.bienvenidos,todos4you' #Texto que usaremos para los demás ejemplos\n",
    "\n",
    "#Capitalize\n",
    "\n",
    "#El método devuelve una cadena donde el primer carácter está en mayúsculas y el resto en minúsculas.\n",
    "\n",
    "print(s.capitalize())  "
   ]
  },
  {
   "cell_type": "markdown",
   "metadata": {},
   "source": [
    "# Lower\n",
    "\n",
    "- El método devuelve una cadena donde Todos los caracteres están en minúsculas, Los símbolos y los números se ignoran."
   ]
  },
  {
   "cell_type": "code",
   "execution_count": 4,
   "metadata": {},
   "outputs": [
    {
     "name": "stdout",
     "output_type": "stream",
     "text": [
      "hola mundo.bienvenidos,todos4you\n"
     ]
    }
   ],
   "source": [
    "print(s.lower()) "
   ]
  },
  {
   "cell_type": "markdown",
   "metadata": {},
   "source": [
    "# Upper\n",
    "\n",
    "- El método devuelve una cadena donde Todos los caracteres están en mayúsculas.upper(), Los símbolos y los números se ignoran."
   ]
  },
  {
   "cell_type": "code",
   "execution_count": 6,
   "metadata": {},
   "outputs": [
    {
     "name": "stdout",
     "output_type": "stream",
     "text": [
      "HOLA MUNDO.BIENVENIDOS,TODOS4YOU\n"
     ]
    }
   ],
   "source": [
    "print(s.upper())"
   ]
  },
  {
   "cell_type": "markdown",
   "metadata": {},
   "source": [
    "# Title\n",
    "\n",
    "- El método devuelve una cadena donde El primer carácter de cada palabra está en mayúsculas. Como un encabezado o un título.title()\n",
    "- Si la palabra contiene un número o un símbolo, la primera letra después de eso se convertirán a mayúsculas."
   ]
  },
  {
   "cell_type": "code",
   "execution_count": 5,
   "metadata": {},
   "outputs": [
    {
     "name": "stdout",
     "output_type": "stream",
     "text": [
      "Hola Mundo.Bienvenidos,Todos4You\n"
     ]
    }
   ],
   "source": [
    "print(s.title())"
   ]
  },
  {
   "cell_type": "markdown",
   "metadata": {},
   "source": [
    "# Split\n",
    "\n",
    "- Divida una cadena en una lista en la que cada palabra sea un elemento de lista:\n",
    "\n",
    "- Sintaxis\n",
    "\n",
    "- - string.split(separator, maxsplit)\n",
    "- - Opcional. Especifica cuántas divisiones hacer. El valor predeterminado es -1, que es \"todas las divisiones posibles\"."
   ]
  },
  {
   "cell_type": "code",
   "execution_count": 7,
   "metadata": {},
   "outputs": [
    {
     "name": "stdout",
     "output_type": "stream",
     "text": [
      "['apple', 'banana#cherry#orange']\n"
     ]
    }
   ],
   "source": [
    "s = 'Bienvenido a Python'\n",
    "s.split()# split por defecto pica por espacio ' '\n",
    "\n",
    "s = '2023.8.15'\n",
    "s.split('.') # argumento será el patrón de picar\n",
    "\n",
    "# Estamos especificando que haga una sola division, eso hará que nos devuelva una lista con solo 2 elementos\n",
    "\n",
    "txt = \"apple#banana#cherry#orange\"\n",
    "x = txt.split(\"#\", 1)\n",
    "\n",
    "print(x)"
   ]
  },
  {
   "cell_type": "markdown",
   "metadata": {},
   "source": [
    "# join\n",
    "\n",
    "- El método toma todos los elementos de un iterable y los une en una sola cadena.join()\n",
    "- Se debe especificar una cadena como separador.\n",
    "\n",
    "- Sintaxis\n",
    "\n",
    "- - string.join(iterable)"
   ]
  },
  {
   "cell_type": "code",
   "execution_count": 8,
   "metadata": {},
   "outputs": [
    {
     "name": "stdout",
     "output_type": "stream",
     "text": [
      "nameTESTcountry\n"
     ]
    }
   ],
   "source": [
    "#Otro ejemplo, usando diccionarios:\n",
    "\n",
    "myDict = {\"name\": \"John\", \"country\": \"Norway\"}\n",
    "mySeparator = \"TEST\"\n",
    "\n",
    "x = mySeparator.join(myDict)\n",
    "\n",
    "print(x)\n",
    "\n",
    "#Cuando se utiliza un diccionario como iterable, los valores devueltos son las claves, no los valores."
   ]
  }
 ],
 "metadata": {
  "kernelspec": {
   "display_name": "Python 3",
   "language": "python",
   "name": "python3"
  },
  "language_info": {
   "codemirror_mode": {
    "name": "ipython",
    "version": 3
   },
   "file_extension": ".py",
   "mimetype": "text/x-python",
   "name": "python",
   "nbconvert_exporter": "python",
   "pygments_lexer": "ipython3",
   "version": "3.13.0"
  }
 },
 "nbformat": 4,
 "nbformat_minor": 2
}

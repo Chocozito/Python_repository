{
 "cells": [
  {
   "cell_type": "markdown",
   "metadata": {},
   "source": [
    "# Diccionarios\n",
    "\n",
    "#Un diccionario es una colección de tipos de datos emparejados (clave: valor) desordenados, modificables (mutables).\n",
    "\n",
    "- Para crear un diccionario usamos llaves, {} o la función incorporada dict()."
   ]
  },
  {
   "cell_type": "code",
   "execution_count": 2,
   "metadata": {},
   "outputs": [
    {
     "name": "stdout",
     "output_type": "stream",
     "text": [
      "{'Nombre': 'Jesus', 'Estatura': '1.70', 'Edad': '21', 'Comidas Favoritas': ['Pollo frito', 'Helado'], 1: 18, 2.37: 13.04}\n"
     ]
    }
   ],
   "source": [
    "#Syntaxis\n",
    "  \n",
    "dict_ejemplo = {}\n",
    "# Ejemplo de un dccionario\n",
    "dict = {'key1':'value1', 'key2':'value2', 'key3':'value3', 'key4':'value4'}\n",
    "#        clave: valor,     clave: valor,    clave: valor,    clave: valor\n",
    "\n",
    "dict = {'Nombre':'Jesus', 'Estatura':'1.70', 'Edad':'21', 'Comidas Favoritas': [\"Pollo frito\", \"Helado\"], 1: 18, 2.37: 13.04}  #Tanto en las claves como en los valores podemos tener diferentes tipos de datos\n",
    "\n",
    "print(dict)\n",
    "\n",
    "#Podemos ver que en las claves no solo puede ir strings, tambien ints y floats, y en los valores tenemos tambien tanto strings, int floats e incluso una lista"
   ]
  },
  {
   "cell_type": "code",
   "execution_count": null,
   "metadata": {},
   "outputs": [],
   "source": [
    "#Ahora mostremos en pantalla alguno de los valores que tenemos en el diccionario\n",
    "#Podemos acceder a los elementos del diccionario haciendo referencia a su nombre de clave.\n",
    "\n",
    "\n",
    "print(dict[\"Nombre\"])     \n",
    "print(dict[1])                      \n",
    "print(dict[2.37])                      #Usando dict[clave] podremos mostrar por pantalla el valor asociado a esa clave\n",
    "#print(dict['city'])                    #Esto daria un KeyError, debido a que no existe la clave 'city'\n",
    "             \n",
    "#En los diccionarios se trabaja con las claves, por lo que como vimos ahorita si quieres mostrar el valor de un diccionarios debes usar su clave"
   ]
  },
  {
   "cell_type": "markdown",
   "metadata": {},
   "source": [
    "# Hagamos un diccionario más completo y con mejor orden"
   ]
  },
  {
   "cell_type": "code",
   "execution_count": null,
   "metadata": {},
   "outputs": [],
   "source": [
    "person = {\n",
    "    'first_name':'Jesus',\n",
    "    'last_name':'Mundarain',\n",
    "    'age':21,\n",
    "    'country':'Venezuela',\n",
    "    'is_marred':False,\n",
    "    'skills':['JavaScript', 'React', 'Node', 'MongoDB', 'Python'],\n",
    "    'address':{\n",
    "        'street':'Valencia',\n",
    "        'zipcode':'2003'\n",
    "    }\n",
    "    }\n",
    "\n",
    "#Nuevamente repito, podemos tener diferentes tipos de datos en los valores, diccionarios, listas, tuplas, sets, strings, int, float, bool, etc"
   ]
  },
  {
   "cell_type": "markdown",
   "metadata": {},
   "source": [
    "# Longitud(Len)\n",
    "\n",
    "- Comprueba el número de pares 'clave: valor' en el diccionario."
   ]
  },
  {
   "cell_type": "code",
   "execution_count": 4,
   "metadata": {},
   "outputs": [
    {
     "name": "stdout",
     "output_type": "stream",
     "text": [
      "7\n"
     ]
    }
   ],
   "source": [
    "person = {\n",
    "    'first_name':'Jesus',\n",
    "    'last_name':'Mundarain',\n",
    "    'age':21,\n",
    "    'country':'Venezuela',\n",
    "    'is_marred':False,\n",
    "    'skills':['JavaScript', 'React', 'Node', 'MongoDB', 'Python'],\n",
    "    'address':{\n",
    "        'street':'Valencia',\n",
    "        'zipcode':'2003'\n",
    "    }\n",
    "    }\n",
    "\n",
    "print(len(person))"
   ]
  },
  {
   "cell_type": "markdown",
   "metadata": {},
   "source": [
    "# get\n",
    "\n",
    "#Sintaxis\n",
    "\n",
    "#nombre_diccionario.get(clave, valor(opcional))\n",
    "\n",
    "- El valor es algo opcional que podemos colocar en caso de que la clae no se consiga, por predeterminado reotrna None en caso de no conseguir la clave\n",
    "- Pero con esto podemos especificar el elemento a retornar en caso de no encontrar la clave\n",
    "\n",
    "- Al acceder a un elemento por nombre de clave, se genera un error si la clave no existe. Para evitar este error primero tenemos que comprobar \n",
    "- si existe una clave o podemos utilizar el método get. El método get devuelve None, que es un tipo de datos de objeto NoneType, si la clave no existe."
   ]
  },
  {
   "cell_type": "code",
   "execution_count": 5,
   "metadata": {},
   "outputs": [
    {
     "name": "stdout",
     "output_type": "stream",
     "text": [
      "Jesus\n",
      "Venezuela\n",
      "['JavaScript', 'React', 'Node', 'MongoDB', 'Python']\n",
      "None\n",
      "No Existe\n"
     ]
    }
   ],
   "source": [
    "person = {\n",
    "    'first_name':'Jesus',\n",
    "    'last_name':'Mundarain',\n",
    "    'age':21,\n",
    "    'country':'Venezuela',\n",
    "    'is_marred':False,\n",
    "    'skills':['JavaScript', 'React', 'Node', 'MongoDB', 'Python'],\n",
    "    'address':{\n",
    "        'street':'Valencia',\n",
    "        'zipcode':'2003'\n",
    "    }\n",
    "    }\n",
    "\n",
    "print(person.get('first_name'))\n",
    "print(person.get('country'))    \n",
    "print(person.get('skills')) \n",
    "print(person.get('city'))   #Al no existir la clave 'city' imprimirá None, de esta forma nos evitamos el KeyError\n",
    "print(person.get('Agua', 'No Existe')) #Al no existir la clave 'agua' imprimirá No Existe, ya que en este caso le estamos especificando que elemento retornar en caso de no encontrar la clave"
   ]
  },
  {
   "cell_type": "markdown",
   "metadata": {},
   "source": [
    "# Adición de elementos a un diccionario"
   ]
  },
  {
   "cell_type": "code",
   "execution_count": 6,
   "metadata": {},
   "outputs": [
    {
     "name": "stdout",
     "output_type": "stream",
     "text": [
      "{'Nombre': 'Jesus', 'Apellido': 'Mundarain', 'Ciudad': 'Valencia', 'Pais': 'Venezuela', 'Codigo Postal': 2003}\n",
      "{'Nombre': 'Jesus', 'Apellido': 'Mundarain', 'Ciudad': 'Valencia', 'Pais': 'Venezuela', 'Comidas Favoritas': ['Pollo Frito', 'Helado']}\n"
     ]
    }
   ],
   "source": [
    "my_dict = {'Nombre':'Jesus', 'Apellido':'Mundarain', 'Ciudad':'Valencia', 'Pais':'Venezuela'}\n",
    "\n",
    "my_dict[\"Codigo Postal\"] = 2003  #Podemos agrega nuevos pares clave:valor al nuestro diccionario usando nombre_lista[\"Nueva_Clave\"] = Nuevo valor\n",
    "print(my_dict)\n",
    "\n",
    "#Con el append podemos agregar valores a claves YA EXISTENTES Y QUE TENGA UNA ESTRUTURA QUE PERMITA ALMACENAR VARIOS ELEMENTOS\n",
    "\n",
    "my_dict = {'Nombre':'Jesus', 'Apellido':'Mundarain', 'Ciudad':'Valencia', 'Pais':'Venezuela', \"Comidas Favoritas\": [\"Pollo Frito\"]}\n",
    "\n",
    "my_dict[\"Comidas Favoritas\"].append(\"Helado\") #Y tambien es importante destacar nuevamente que para hacer esto debe existir una estructura que permita almacenar varios valores, en este caso funciona porque \n",
    "                                              #Lo estamos guardando en una lista.\n",
    "\n",
    "print(my_dict)\n",
    "\n",
    "#Pero que pasa si intentamos guardar un valor en una clave que no contiene lista o alguna estrutura que puede almacenar varios valores?\n",
    "\n",
    "#my_dict['Nombre'].append(\"Miguel\") #Nos dará un AtributteError, Así que cuidado donde guardas los elementos\n",
    "#print(my_dict)"
   ]
  },
  {
   "cell_type": "markdown",
   "metadata": {},
   "source": [
    "# Comprobación de claves en un diccionario (in)"
   ]
  },
  {
   "cell_type": "code",
   "execution_count": null,
   "metadata": {},
   "outputs": [],
   "source": [
    "person = {\n",
    "    'first_name':'Jesus',\n",
    "    'last_name':'Mundarain',\n",
    "    'age':21,\n",
    "    'country':'Venezuela',\n",
    "    'is_marred':False,\n",
    "    'skills':['JavaScript', 'React', 'Node', 'MongoDB', 'Python'],\n",
    "    'address':{\n",
    "        'street':'Valencia',\n",
    "        'zipcode':'2003'\n",
    "    }\n",
    "    }\n",
    "\n",
    "print(\"first_name\" in person)  #Tambien podemos saber la existencia de una clave usando nombre_clave in nombre_lista, usando este metodo retornará un valor booleano(True or False)\n",
    "print(\"Apellido\" in person)    #La clave apellido no existe, así que mostrará False"
   ]
  },
  {
   "cell_type": "markdown",
   "metadata": {},
   "source": [
    "# Eliminación de pares de clave y valor de un diccionario\n",
    "\n",
    "- pop(key): elimina el elemento con el nombre de clave especificado\n",
    "- popitem(): elimina el último elemento\n",
    "- del: elimina un elemento con el nombre de clave especificado"
   ]
  },
  {
   "cell_type": "code",
   "execution_count": 7,
   "metadata": {},
   "outputs": [
    {
     "name": "stdout",
     "output_type": "stream",
     "text": [
      "{'key2': 'value2', 'key3': 'value3', 'key4': 'value4'}\n",
      "Este es el valor que se eliminó: value1\n",
      "{'key1': 'value1', 'key2': 'value2', 'key3': 'value3'}\n",
      "{'key1': 'value1', 'key3': 'value3'}\n"
     ]
    }
   ],
   "source": [
    "dct = {'key1':'value1', 'key2':'value2', 'key3':'value3', 'key4':'value4'}\n",
    "dct.pop('key1') # Remueve key1 item\n",
    "print(dct)\n",
    "\n",
    "#El valor del elemento eliminado es el valor de retorno del método pop(), Por lo que podemos guardar ese valor eliminado en una variable.\n",
    "\n",
    "dct = {'key1':'value1', 'key2':'value2', 'key3':'value3', 'key4':'value4'}\n",
    "z = dct.pop('key1') # Remueve el item key1 \n",
    "print(\"Este es el valor que se eliminó:\", z)\n",
    "\n",
    "dct = {'key1':'value1', 'key2':'value2', 'key3':'value3', 'key4':'value4'}\n",
    "dct.popitem() # Elimina el ultimo item\n",
    "print(dct)\n",
    "\n",
    "del dct['key2'] # Remueve el item key2 \n",
    "print(dct)"
   ]
  },
  {
   "cell_type": "markdown",
   "metadata": {},
   "source": [
    "# Cambiar el diccionario a una lista de elementos\n",
    "\n",
    "- El método items() cambia el diccionario a una lista de tuplas."
   ]
  },
  {
   "cell_type": "code",
   "execution_count": 8,
   "metadata": {},
   "outputs": [
    {
     "name": "stdout",
     "output_type": "stream",
     "text": [
      "dict_items([('Nombre', 'Jesus'), ('Apellido', 'Mundarain'), ('Ciudad', 'Valencia'), ('Pais', 'Venezuela')])\n"
     ]
    }
   ],
   "source": [
    "my_dict = {'Nombre':'Jesus', 'Apellido':'Mundarain', 'Ciudad':'Valencia', 'Pais':'Venezuela'}\n",
    "print(my_dict.items())"
   ]
  },
  {
   "cell_type": "markdown",
   "metadata": {},
   "source": [
    "# Imprimir solo los valores de las claves"
   ]
  },
  {
   "cell_type": "code",
   "execution_count": 9,
   "metadata": {},
   "outputs": [
    {
     "name": "stdout",
     "output_type": "stream",
     "text": [
      "189\n",
      "289\n",
      "289\n"
     ]
    }
   ],
   "source": [
    "dict_1 = {'clave1':189, 'clave2':289, 'clave3':289}\n",
    "for k in dict_1:\n",
    "    print(dict_1[k]) # key clave"
   ]
  },
  {
   "cell_type": "markdown",
   "metadata": {},
   "source": [
    "# Imprimir clave y valor de un diccionario con .items"
   ]
  },
  {
   "cell_type": "code",
   "execution_count": 10,
   "metadata": {},
   "outputs": [
    {
     "name": "stdout",
     "output_type": "stream",
     "text": [
      "clave1 189\n",
      "clave2 289\n",
      "clave3 289\n"
     ]
    }
   ],
   "source": [
    "for k,v in dict_1.items(): # clave, valor\n",
    " print(k,v)"
   ]
  },
  {
   "cell_type": "markdown",
   "metadata": {},
   "source": [
    "# Imprimir clave y valor de un diccionario con 1 indice"
   ]
  },
  {
   "cell_type": "code",
   "execution_count": 11,
   "metadata": {},
   "outputs": [
    {
     "name": "stdout",
     "output_type": "stream",
     "text": [
      "clave1 189\n",
      "clave2 289\n",
      "clave3 289\n"
     ]
    }
   ],
   "source": [
    "dict_1 = {'clave1':189, 'clave2':289, 'clave3':289}\n",
    "for k in dict_1:\n",
    "    print(k,dict_1[k]) # key clave"
   ]
  },
  {
   "cell_type": "markdown",
   "metadata": {},
   "source": [
    "# Clear\n",
    "\n",
    "- Si no queremos los elementos en un diccionario, podemos borrarlos usando el método clear()"
   ]
  },
  {
   "cell_type": "code",
   "execution_count": 12,
   "metadata": {},
   "outputs": [
    {
     "name": "stdout",
     "output_type": "stream",
     "text": [
      "None\n"
     ]
    }
   ],
   "source": [
    "dct = {'key1':'value1', 'key2':'value2', 'key3':'value3', 'key4':'value4'}\n",
    "print(dct.clear()) #Dará un diccionario vacio"
   ]
  },
  {
   "cell_type": "markdown",
   "metadata": {},
   "source": [
    "# del\n",
    "\n",
    "- Si no usamos el diccionario podemos eliminarlo por completo"
   ]
  },
  {
   "cell_type": "code",
   "execution_count": 13,
   "metadata": {},
   "outputs": [],
   "source": [
    "dct = {'key1':'value1', 'key2':'value2', 'key3':'value3', 'key4':'value4'}\n",
    "del dct\n",
    "\n",
    "#print(dct)   #Esto dará error porque al eliminar por completo el diccionario ya no existe"
   ]
  },
  {
   "cell_type": "markdown",
   "metadata": {},
   "source": [
    "# copy\n",
    "\n",
    "- Podemos copiar un diccionario usando un método copy(). Usando copy podemos evitar la mutación del diccionario original."
   ]
  },
  {
   "cell_type": "code",
   "execution_count": 14,
   "metadata": {},
   "outputs": [
    {
     "name": "stdout",
     "output_type": "stream",
     "text": [
      "1837465898816 1837465897408\n"
     ]
    }
   ],
   "source": [
    "dct = {'key1':'value1', 'key2':'value2', 'key3':'value3', 'key4':'value4'}\n",
    "dct_copy = dct.copy() # {'key1':'value1', 'key2':'value2', 'key3':'value3', 'key4':'value4'}\n",
    "\n",
    "print(id(dct),id(dct_copy))\n",
    "\n",
    "#importante, esto solo copia el primer nivel de un diccionario\n",
    "\n",
    "#En Python, las instrucciones de asignación no copian objetos, sino que crean enlaces entre un destino y un objeto. Cuando usamos el operador =, \n",
    "#solo crea una nueva variable que comparte la referencia del objeto original. \n",
    "#Para crear \"copias reales\" o \"clones\" de estos objetos, podemos usar el módulo copy en Python."
   ]
  },
  {
   "cell_type": "markdown",
   "metadata": {},
   "source": [
    "# deepcopy y shalow copy\n",
    "\n",
    "- sintaxis\n",
    "\n",
    "- Debes importar la libreria copy\n",
    "\n",
    "- copy.copy(x)\n",
    "- copy.deepcopy(x)\n",
    "\n",
    "- El copy() devuelve una copia superficial de la lista\n",
    "\n",
    "- Una copia superficial, , se crea usando copy.copy(), conservando la estructura de nivel superior pero compartiendo referencias a las listas internas.\n",
    "\n",
    "- deepcopy() devuelve una copia profunda de la lista.\n",
    "\n",
    "- Una copia profunda, , se crea usando copy.deepcopy(), lo que da como resultado una copia completamente independiente de , incluidos todos los elementos anidados. "
   ]
  },
  {
   "cell_type": "code",
   "execution_count": 15,
   "metadata": {},
   "outputs": [
    {
     "name": "stdout",
     "output_type": "stream",
     "text": [
      "li1 ID:  1837466088064 Value:  [1, 2, [3, 5], 4]\n",
      "li2 ID:  1837466086656 Value:  [1, 2, [3, 5], 4]\n",
      "li3 ID:  1837466081152 Value:  [1, 2, [3, 5], 4]\n",
      "li4 ID:  1837466086336 Value:  [1, 2, 3, 5, 4]\n",
      "li5 ID:  1837466087360 Value:  [1, 2, 3, 5, 4]\n",
      "Los elementos de la lista original antes de la copia superficial son: \n",
      "1 2 [3, 5] 4 \n",
      "Los elementos de la lista original despues de la copia superficial son: \n",
      "1 2 [7, 5] 4 \n",
      "\n",
      "la copia de la lista tiene estos elementos: \n",
      "0 2 [7, 5] 4 \n",
      "\n"
     ]
    }
   ],
   "source": [
    "#ejemplo\n",
    "\n",
    "import copy\n",
    "\n",
    "li1 = [1, 2, [3, 5], 4]\n",
    "li2 = copy.copy(li1)\n",
    "\n",
    "print(\"li1 ID: \", id(li1), \"Value: \", li1)\n",
    "print(\"li2 ID: \", id(li2), \"Value: \", li2)   #En este caso la lista principal que contiene todo es una copia completa por lo que si cambias un valor de la copia no afecta en este\n",
    "                                             #Exceptuando la lista interna, la cual esta por referencia con la lista original asi que al cambiar algo de esta lista afectas a la \n",
    "                                             #original, en un ejemplo de abajo lo vemos mas en detalle\n",
    "\n",
    "#Probando el deepcopy\n",
    "\n",
    "li3 = copy.deepcopy(li1)\n",
    "print(\"li3 ID: \", id(li3), \"Value: \", li3)\n",
    "\n",
    "li4 = [1, 2, 3, 5, 4]\n",
    "li5 = copy.copy(li4)\n",
    "\n",
    "print(\"li4 ID: \", id(li4), \"Value: \", li4)\n",
    "print(\"li5 ID: \", id(li5), \"Value: \", li5)     #En este caso son copias completamente distintas ya que es una lista que no tiene otros niveles(otras estructuras internas)\n",
    "\n",
    "#probando el Shalow Copy\n",
    "\n",
    "import copy\n",
    "li1 = [1, 2, [3,5], 4]\n",
    "li2 = copy.copy(li1)                                           #Aqui un ejemplo de la copia superficial, para mostrar como al añadir el 7 en la lista2 afecta a la lista 1\n",
    "print (\"Los elementos de la lista original antes de la copia superficial son: \")\n",
    "for i in range(0,len(li1)):\n",
    "    print (li1[i],end=\" \")\n",
    "\n",
    "print(\"\\r\")\n",
    "li2[2][0] = 7                                    #Aqui le añadimos el 7 a la lista 2, pero cuando imprimamos nuevamente la lista 1 ese 7 tambien aparecerá ahí\n",
    "li2[0] = 0                                       #y aquí vamos a cambiar el valor del primer elemento de la copia de la lista, como este elemento es de primer nivel\n",
    "                                                 #este elemento al cambiarlo no afectará a la lista original\n",
    "\n",
    "print (\"Los elementos de la lista original despues de la copia superficial son: \")\n",
    "for i in range(0,len( li1)):\n",
    "    print (li1[i],end=\" \")\n",
    "print(\"\\n\")    \n",
    "\n",
    "print (\"la copia de la lista tiene estos elementos: \")\n",
    "for i in range(0,len( li2)):\n",
    "    print (li2[i],end=\" \")\n",
    "\n",
    "print(\"\\n\")"
   ]
  },
  {
   "cell_type": "markdown",
   "metadata": {},
   "source": [
    "# Keys\n",
    "\n",
    "- El método keys() nos da todas las claves de un diccionario como una lista."
   ]
  },
  {
   "cell_type": "code",
   "execution_count": 16,
   "metadata": {},
   "outputs": [
    {
     "name": "stdout",
     "output_type": "stream",
     "text": [
      "dict_keys(['key1', 'key2', 'key3', 'key4'])\n"
     ]
    }
   ],
   "source": [
    "dct = {'key1':'value1', 'key2':'value2', 'key3':'value3', 'key4':'value4'}\n",
    "keys = dct.keys()\n",
    "print(keys)     # dict_keys(['key1', 'key2', 'key3', 'key4'])"
   ]
  },
  {
   "cell_type": "markdown",
   "metadata": {},
   "source": [
    "# values\n",
    "\n",
    "- El método values nos da todos los valores de un diccionario como una lista."
   ]
  },
  {
   "cell_type": "code",
   "execution_count": 17,
   "metadata": {},
   "outputs": [
    {
     "name": "stdout",
     "output_type": "stream",
     "text": [
      "dict_values(['value1', 'value2', 'value3', 'value4'])\n"
     ]
    }
   ],
   "source": [
    "dct = {'key1':'value1', 'key2':'value2', 'key3':'value3', 'key4':'value4'}\n",
    "values = dct.values()\n",
    "print(values)     # dict_values(['value1', 'value2', 'value3', 'value4'])"
   ]
  },
  {
   "cell_type": "markdown",
   "metadata": {},
   "source": [
    "# Items\n",
    "\n",
    "- Devuelve los pares clave-valor del diccionario:\n",
    "- El método devuelve los pares clave-valor del diccionario, como tuplas en un lista."
   ]
  },
  {
   "cell_type": "code",
   "execution_count": 18,
   "metadata": {},
   "outputs": [
    {
     "name": "stdout",
     "output_type": "stream",
     "text": [
      "dict_items([('key1', 'value1'), ('key2', 'value2'), ('key3', 'value3'), ('key4', 'value4')])\n"
     ]
    }
   ],
   "source": [
    "dct = {'key1':'value1', 'key2':'value2', 'key3':'value3', 'key4':'value4'}\n",
    "\n",
    "items = dct.items()\n",
    "\n",
    "print(items)"
   ]
  },
  {
   "cell_type": "markdown",
   "metadata": {},
   "source": [
    "# Diccionario Anidados"
   ]
  },
  {
   "cell_type": "code",
   "execution_count": 19,
   "metadata": {},
   "outputs": [
    {
     "name": "stdout",
     "output_type": "stream",
     "text": [
      "Mercurio 2439.7\n",
      "Venus 6051.8\n",
      "Tierra 6371.0\n",
      "Marte 3389.5\n",
      "\n",
      "Mercurio 2439.7\n",
      "Venus 6051.8\n",
      "Tierra 6371.0\n",
      "Marte 3389.5\n",
      "\n",
      "6051.8\n"
     ]
    }
   ],
   "source": [
    "planetas = { \n",
    "    'Mercurio': {\n",
    "        'mean_radius': 2439.7,\n",
    "        'mass': 3.3022E+23, \n",
    "        'orbital period': 87.969,\n",
    "    },\n",
    "    'Venus': {\n",
    "        'mean_radius': 6051.8,\n",
    "        'mass': 4.8676E+24,\n",
    "        'orbital period': 224.70069,\n",
    "    },\n",
    "    'Tierra': {\n",
    "        'mean_radius': 6371.0,\n",
    "        'mass': 5.97219E+24,\n",
    "        'orbital period': 365.25641,\n",
    "    },\n",
    "    'Marte': {\n",
    "        'mean_radius': 3389.5,\n",
    "        'mass': 6.4185E+23,\n",
    "        'orbital period': 686.9600,\n",
    "    }\n",
    "}\n",
    "\n",
    "for k in planetas:\n",
    "    print(k, planetas[k]['mean_radius'])  \n",
    "\n",
    "print()\n",
    "for planeta, datos in planetas.items():\n",
    "    print(planeta, datos['mean_radius'])\n",
    "\n",
    "print()\n",
    "print(planetas['Venus']['mean_radius'])"
   ]
  },
  {
   "cell_type": "markdown",
   "metadata": {},
   "source": [
    "# Zip\n",
    "\n",
    "- La función zip() de Python se define como zip(*iterables) . La función toma iterables como argumentos y devuelve un iterador. \n",
    "- Este iterador genera una serie de tuplas que contienen elementos de cada iterable(Descomprimir por así decirlo). \n",
    "- zip() puede aceptar cualquier tipo de iterable, como archivos, listas, tuplas, diccionarios, conjuntos, etc."
   ]
  },
  {
   "cell_type": "code",
   "execution_count": 20,
   "metadata": {},
   "outputs": [
    {
     "name": "stdout",
     "output_type": "stream",
     "text": [
      "Puntajes: [95, 90, 90, 90]\n",
      "Promedios: 91.25\n"
     ]
    },
    {
     "data": {
      "text/plain": [
       "[('hello', 1, 400), ('world', 2, 500), ('python', 3, 600), ('rocks', 4, 700)]"
      ]
     },
     "execution_count": 20,
     "metadata": {},
     "output_type": "execute_result"
    }
   ],
   "source": [
    "scores = (\n",
    "    ('DongKyu Park' , 88, 95, 90),\n",
    "    ('YoungMin Kang', 85, 90, 95),\n",
    "    ('DongMin Park' , 70, 90, 80),\n",
    "    ('Seungloo Hong', 90, 90, 95),\n",
    ")\n",
    "\n",
    "nombres, ingles, matematicas, ciencias = zip(*scores)\n",
    "\n",
    "#print(nombres)\n",
    "#print(ingles)\n",
    "#print(matematicas)\n",
    "#print(ciencias)\n",
    "\n",
    "p_mate = list(matematicas)\n",
    "prom_mate  = sum(p_mate) / len(matematicas)\n",
    "\n",
    "print(f\"Puntajes: {p_mate}\")\n",
    "print(f\"Promedios: {prom_mate}\")\n",
    "\n",
    "#Otro ejemplo usando zip:\n",
    "\n",
    "#               0        1        2        3\n",
    "str_list = [ 'hello', 'world', 'python', 'rocks' ]\n",
    "int_tuple = (1, 2, 3, 4, 5, 6, 7, 8, 9)\n",
    "int_list = [400, 500, 600, 700, 800, 900]\n",
    "\n",
    "#Crea una collección a partir de varias colecciones\n",
    "#del tamaño de la coleccion mas pequeña(IMPORTANTE)\n",
    "iterador = zip(str_list, int_tuple, int_list)\n",
    "\n",
    "zip_lst = list(iterador)\n",
    "zip_lst"
   ]
  }
 ],
 "metadata": {
  "kernelspec": {
   "display_name": "Python 3",
   "language": "python",
   "name": "python3"
  },
  "language_info": {
   "codemirror_mode": {
    "name": "ipython",
    "version": 3
   },
   "file_extension": ".py",
   "mimetype": "text/x-python",
   "name": "python",
   "nbconvert_exporter": "python",
   "pygments_lexer": "ipython3",
   "version": "3.13.0"
  }
 },
 "nbformat": 4,
 "nbformat_minor": 2
}

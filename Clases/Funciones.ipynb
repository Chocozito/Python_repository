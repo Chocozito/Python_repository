{
 "cells": [
  {
   "cell_type": "markdown",
   "metadata": {},
   "source": [
    "# ¿Que es una funcion?\n",
    "\n",
    "- Una función es un bloque reutilizable de código o instrucciones de programación diseñadas para realizar una determinada tarea. Para definir o declarar una función, \n",
    "Python proporciona la palabra clave def. A continuación se muestra la sintaxis para definir una función. \n",
    "El bloque de función de código solo se ejecuta si se llama o invoca la función.\n",
    "\n",
    "- Cuando hacemos una función, la llamamos declarar una función. \n",
    "- Cuando comenzamos a usar la funcion, lo llamamos llamar o invocar una función. La función se puede declarar con o sin parámetros."
   ]
  },
  {
   "cell_type": "code",
   "execution_count": 2,
   "metadata": {},
   "outputs": [
    {
     "name": "stdout",
     "output_type": "stream",
     "text": [
      "5\n"
     ]
    }
   ],
   "source": [
    "#Sintaxis\n",
    "\n",
    "#Declarando una funcion\n",
    "#def function_name(#Parametros(opcionales)):\n",
    "    #codes\n",
    "    #codes\n",
    "\n",
    "#Llamando una funcion\n",
    "#function_name(#Parametros(opcionales))\n",
    "\n",
    "'''La función se puede declarar sin parámetros.'''\n",
    "\n",
    "def sumar_dos_numeros ():\n",
    "    num_one = 2\n",
    "    num_two = 3                     #Aqui estamos haciendo una funcion donde no estamos pasando ningun parametro \n",
    "    total = num_one + num_two\n",
    "    print(total)\n",
    "sumar_dos_numeros()"
   ]
  },
  {
   "cell_type": "markdown",
   "metadata": {},
   "source": [
    "- La función también puede devolver valores, si una función no tiene una instrucción return, el valor de la función es None. \n",
    "- Reescribamos la funcion anterior usando return. A partir de ahora, obtenemos un valor de una función cuando llamamos a la función y la imprimimos."
   ]
  },
  {
   "cell_type": "code",
   "execution_count": 1,
   "metadata": {},
   "outputs": [
    {
     "name": "stdout",
     "output_type": "stream",
     "text": [
      "5\n"
     ]
    }
   ],
   "source": [
    "def sumar_dos_numeros ():\n",
    "    num_one = 2\n",
    "    num_two = 3                     #Aqui estamos haciendo una funcion donde no estamos pasando ningun parametro \n",
    "    total = num_one + num_two\n",
    "    return(total)\n",
    "\n",
    "x = sumar_dos_numeros()\n",
    "print(x)"
   ]
  },
  {
   "cell_type": "markdown",
   "metadata": {},
   "source": [
    "# Función con parámetros\n",
    "\n",
    "- En una función podemos pasar diferentes tipos de datos (número, cadena, booleano, lista, tupla, diccionario o conjunto) como parámetro\n",
    "\n",
    "- Parámetro único: Si nuestra función toma un parámetro, debemos llamar a nuestra función con un argumento"
   ]
  },
  {
   "cell_type": "code",
   "execution_count": 3,
   "metadata": {},
   "outputs": [
    {
     "name": "stdout",
     "output_type": "stream",
     "text": [
      "Jesus, welcome to Python for Everyone!\n",
      "Resultado funcion Add Ten:  100\n",
      "Resultado funcion square_numbers:  4\n",
      "Resultado funcion area of circle:  314.0\n",
      "Resultado funcion sum of numbers:  55\n",
      "Resultado funcion sum of numbers:  5050\n"
     ]
    }
   ],
   "source": [
    " # syntax\n",
    "\n",
    "  # Declarando una funcion\n",
    "  #def function_name(parametros):\n",
    "    #codes\n",
    "    #codes\n",
    "  # Llamando una funcion\n",
    "  #print(function_name(argumentos))\n",
    "\n",
    "def greetings (name):\n",
    "    message = name + ', welcome to Python for Everyone!'\n",
    "    return message\n",
    "\n",
    "print(greetings('Jesus'))\n",
    "\n",
    "def add_ten(num):\n",
    "    ten = 10\n",
    "    return num + ten\n",
    "\n",
    "print(\"Resultado funcion Add Ten: \", add_ten(90))\n",
    "\n",
    "def square_number(x):\n",
    "    return x * x\n",
    "print(\"Resultado funcion square_numbers: \", square_number(2))\n",
    "\n",
    "def area_of_circle (r):\n",
    "    PI = 3.14\n",
    "    area = PI * r ** 2\n",
    "    return area\n",
    "print(\"Resultado funcion area of circle: \", area_of_circle(10))\n",
    "\n",
    "def sum_of_numbers(n):\n",
    "    total = 0\n",
    "    for i in range(n+1):\n",
    "        total+=i\n",
    "    return total\n",
    "\n",
    "print(\"Resultado funcion sum of numbers: \", sum_of_numbers(10))\n",
    "print(\"Resultado funcion sum of numbers: \", sum_of_numbers(100))"
   ]
  },
  {
   "cell_type": "markdown",
   "metadata": {},
   "source": [
    "- Dos parámetros: Una función puede o no tener un parámetro o parámetros. \n",
    "- Una función también puede tener dos o más parámetros. Si nuestra función toma parámetros, debemos llamarla con argumentos. Comprobemos una función con dos parámetros:\n",
    "\n",
    "- Si no devolvemos un valor con una función, entonces nuestra función devuelve None de forma predeterminada. Para devolver un valor con una función, \n",
    "- Usamos la palabra clave return seguida de la variable que estamos devolviendo. Podemos devolver cualquier tipo de tipo de datos de una función."
   ]
  },
  {
   "cell_type": "code",
   "execution_count": null,
   "metadata": {},
   "outputs": [],
   "source": [
    "def divi(numerador, denominador):\n",
    "    if(denominador != 0):\n",
    "        return numerador / denominador  #Al ejecutarse el return detiene la ejecucion de la funcion y se sale, similar al break con los bucles\n",
    "    else:\n",
    "        return \"No se puede dividir entre 0\"\n",
    "    \n",
    "print(divi(5, 0))"
   ]
  },
  {
   "cell_type": "markdown",
   "metadata": {},
   "source": [
    "# Función con parámetros predeterminados\n",
    "\n",
    "- A veces pasamos valores predeterminados a los parámetros, cuando invocamos la función. Si no pasamos argumentos al llamar a la función, se usarán sus valores predeterminados."
   ]
  },
  {
   "cell_type": "code",
   "execution_count": 4,
   "metadata": {},
   "outputs": [
    {
     "name": "stdout",
     "output_type": "stream",
     "text": [
      "Peter, welcome to Python for Everyone!\n",
      "Asabeneh, welcome to Python for Everyone!\n"
     ]
    }
   ],
   "source": [
    "def greetings (name = 'Peter'):\n",
    "    message = name + ', welcome to Python for Everyone!'\n",
    "    return message\n",
    "print(greetings())\n",
    "print(greetings('Asabeneh'))"
   ]
  },
  {
   "cell_type": "markdown",
   "metadata": {},
   "source": [
    "# Número arbitrario de argumentos\n",
    "\n",
    "- Si no sabemos el número de argumentos que pasamos a nuestra función, \n",
    "- podemos crear una función que pueda tomar un número arbitrario de argumentos añadiendo * antes del nombre del parámetro."
   ]
  },
  {
   "cell_type": "code",
   "execution_count": 5,
   "metadata": {},
   "outputs": [
    {
     "name": "stdout",
     "output_type": "stream",
     "text": [
      "10\n"
     ]
    }
   ],
   "source": [
    "def sum_all_nums(*nums):\n",
    "    total = 0\n",
    "    #print(nums)         # Esto es para ver como se guarda los argumentos que se almacenaron en nums(en una tupla)\n",
    "    for num in nums:\n",
    "        total += num     # same as total = total + num \n",
    "    return total\n",
    "print(sum_all_nums(2, 3, 5)) # 10"
   ]
  },
  {
   "cell_type": "markdown",
   "metadata": {},
   "source": [
    "# Función como parámetro de otra función"
   ]
  },
  {
   "cell_type": "code",
   "execution_count": 6,
   "metadata": {},
   "outputs": [
    {
     "name": "stdout",
     "output_type": "stream",
     "text": [
      "9\n"
     ]
    }
   ],
   "source": [
    "def square_number (n):\n",
    "    return n * n\n",
    "def do_something(f, x):\n",
    "    return f(x)\n",
    "print(do_something(square_number, 3)) # 9"
   ]
  },
  {
   "cell_type": "markdown",
   "metadata": {},
   "source": [
    "# Ejercicios"
   ]
  },
  {
   "cell_type": "code",
   "execution_count": 7,
   "metadata": {},
   "outputs": [
    {
     "name": "stdout",
     "output_type": "stream",
     "text": [
      "3\n"
     ]
    }
   ],
   "source": [
    "#Declarar una función add_two_numbers. Toma dos parámetros y devuelve una suma.\n",
    "\n",
    "def add_two_numbers(x, y):\n",
    "    suma = x + y\n",
    "    return suma\n",
    "\n",
    "print(add_two_numbers(1,2))"
   ]
  },
  {
   "cell_type": "code",
   "execution_count": 8,
   "metadata": {},
   "outputs": [
    {
     "name": "stdout",
     "output_type": "stream",
     "text": [
      "78.5\n"
     ]
    }
   ],
   "source": [
    "#El área de un círculo se calcula de la siguiente manera: área = π x r x r. Escriba una función que calcule area_of_circle.\n",
    "\n",
    "def area(r):\n",
    "    PI = 3.14\n",
    "    area = PI * r * r\n",
    "    return area\n",
    "\n",
    "print(area(5))"
   ]
  },
  {
   "cell_type": "code",
   "execution_count": 9,
   "metadata": {},
   "outputs": [
    {
     "name": "stdout",
     "output_type": "stream",
     "text": [
      "10\n"
     ]
    }
   ],
   "source": [
    "#Escriba una función llamada add_all_nums que toma un número arbitrario de argumentos y suma todos los argumentos. \n",
    "#Compruebe si todos los elementos de la lista son de tipo numérico. Si no es así, dé una retroalimentación razonable.\n",
    "\n",
    "def add_all_nums(*rest):\n",
    "    suma = 0\n",
    "    for i in rest:\n",
    "        if type(i) == int:\n",
    "            suma = suma + i\n",
    "        else: \n",
    "            return \"Error, No todos los elementos de la lista son numeros\"\n",
    "    return suma\n",
    "    \n",
    "print(add_all_nums(2,3,5))"
   ]
  },
  {
   "cell_type": "code",
   "execution_count": 10,
   "metadata": {},
   "outputs": [
    {
     "name": "stdout",
     "output_type": "stream",
     "text": [
      "1\n",
      "2\n",
      "3\n",
      "t\n",
      "4\n",
      "Jesus\n"
     ]
    }
   ],
   "source": [
    "#Declare una función denominada print_list. Toma una lista como parámetro e imprime cada elemento de la lista.\n",
    "\n",
    "def print_list(lista):\n",
    "    for i in lista:\n",
    "        print(i)\n",
    "\n",
    "lts = [1,2,3,\"t\", 4, \"Jesus\"]\n",
    "\n",
    "(print_list(lts))"
   ]
  },
  {
   "cell_type": "code",
   "execution_count": 15,
   "metadata": {},
   "outputs": [
    {
     "name": "stdout",
     "output_type": "stream",
     "text": [
      "['Jesus', 4, 't', 3, 2, 1]\n"
     ]
    }
   ],
   "source": [
    "#Declare una función denominada reverse_list. Toma una lista como parámetro y devuelve el reverso de la lista (bucles use).\n",
    "\n",
    "def reverse_list(lista):\n",
    "    lista_invertida = []\n",
    "    cantidad = len(lista) - 1\n",
    "    j = 0\n",
    "    for i in range(cantidad, -1, -1):\n",
    "        lista_invertida.insert(j,lista[i])\n",
    "        j = j + 1       \n",
    "    return lista_invertida\n",
    "\n",
    "lts = [1,2,3,\"t\", 4, \"Jesus\"]\n",
    "\n",
    "print((reverse_list(lts)))"
   ]
  },
  {
   "cell_type": "code",
   "execution_count": 13,
   "metadata": {},
   "outputs": [
    {
     "name": "stdout",
     "output_type": "stream",
     "text": [
      "['YH', 'T', 'JESUS']\n"
     ]
    }
   ],
   "source": [
    "#Declare una función denominada capitalize_list_items. Toma una lista como parámetro y devuelve una lista de elementos en mayúsculas\n",
    "\n",
    "def mayus_list(lista):\n",
    "    cantidad = len(lista) - 1\n",
    "    for i in range(0,cantidad+1):\n",
    "        lista[i] = lista[i].upper()\n",
    "    return lista\n",
    "\n",
    "lista_mayus = [\"yh\",\"t\",\"Jesus\"]\n",
    "print(mayus_list(lista_mayus))"
   ]
  },
  {
   "cell_type": "code",
   "execution_count": 12,
   "metadata": {},
   "outputs": [
    {
     "name": "stdout",
     "output_type": "stream",
     "text": [
      "The original list is : [1, 3, 4, 6, 7, 2, 6]\n",
      "La lista tiene elementos repetidos\n"
     ]
    }
   ],
   "source": [
    "#Escriba una función que compruebe si todos los elementos son únicos en la lista.\n",
    "\n",
    "# initializing list\n",
    "test_list = [1, 3, 4, 6, 7, 2, 6]\n",
    " \n",
    "# printing original list\n",
    "print(\"The original list is : \" + str(test_list))\n",
    " \n",
    "flag = True\n",
    "# to check all unique list elements\n",
    " \n",
    "for i in test_list:\n",
    "    if test_list.count(i) > 1:\n",
    "        flag = False\n",
    "        break\n",
    "# printing result\n",
    "if(flag):\n",
    "    print(\"Todos los elementos de la lista son diferentes\")\n",
    "else:\n",
    "    print(\"La lista tiene elementos repetidos\")"
   ]
  },
  {
   "cell_type": "code",
   "execution_count": 11,
   "metadata": {},
   "outputs": [
    {
     "name": "stdout",
     "output_type": "stream",
     "text": [
      "No todos los elementos de la lista son del mismo tipo\n"
     ]
    }
   ],
   "source": [
    "#Escriba una función que compruebe si todos los elementos de la lista son del mismo tipo de datos.\n",
    "\n",
    "def verificar(lista):\n",
    "\n",
    "    cantidad = len(lista) #7\n",
    "    band = False\n",
    "    i = 0\n",
    "\n",
    "    for j in range(1,cantidad):   #Va de 1 hasta cantidad(7) - 1       \n",
    "        if (type(test_list[i]) != type(test_list[j])):\n",
    "            #print(f\"Cuando j vale {j} Son distintos\")\n",
    "            band = True\n",
    "            return band\n",
    "\n",
    "test_list = [1, 3, 4, 7, \"hola\", 2]\n",
    "\n",
    "if verificar(test_list):\n",
    "    print(\"No todos los elementos de la lista son del mismo tipo\")\n",
    "else:\n",
    "    print(\"Todos los elementos son del mismo tipo\")"
   ]
  }
 ],
 "metadata": {
  "kernelspec": {
   "display_name": "Python 3",
   "language": "python",
   "name": "python3"
  },
  "language_info": {
   "codemirror_mode": {
    "name": "ipython",
    "version": 3
   },
   "file_extension": ".py",
   "mimetype": "text/x-python",
   "name": "python",
   "nbconvert_exporter": "python",
   "pygments_lexer": "ipython3",
   "version": "3.13.0"
  }
 },
 "nbformat": 4,
 "nbformat_minor": 2
}

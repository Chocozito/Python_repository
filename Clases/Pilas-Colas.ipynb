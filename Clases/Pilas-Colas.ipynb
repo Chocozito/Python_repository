{
 "cells": [
  {
   "cell_type": "markdown",
   "metadata": {},
   "source": [
    "# Pilas"
   ]
  },
  {
   "cell_type": "markdown",
   "metadata": {},
   "source": [
    "Una pila es un TAD(Tipo de dato abstracto) que tiene las siguientes operaciones (se describe también la acción que lleva adelante cada operación):\n",
    "\n",
    "- __init__: inicializa una pila nueva, vacía.\n",
    "- apilar: agrega un nuevo elemento a la pila.\n",
    "- desapilar: elimina el tope de la pila y lo devuelve. El elemento que se devuelve es siempre el último que se agreg6.\n",
    "- es_vacia: devuelve True o False según si la pila está vacía o no."
   ]
  },
  {
   "cell_type": "markdown",
   "metadata": {},
   "source": [
    "[Img pilas](https://s1.qwant.com/thumbr/0x380/9/5/c36a01f77c3e7d6132ace5b5d74a960264aa901d4e2861f57eb4e84148b5a9/kjdkjhh.gif?u=https%3A%2F%2F1.bp.blogspot.com%2F-DYAo-Uobbps%2FYEM8S917IVI%2FAAAAAAAAIUg%2Fc9vH0ZHxeMY4gRAe-Q49aji9GGDJwGMZwCLcBGAsYHQ%2Fs640%2Fkjdkjhh.gif&q=0&b=1&p=0&a=1)"
   ]
  },
  {
   "cell_type": "code",
   "execution_count": 8,
   "metadata": {},
   "outputs": [
    {
     "name": "stdout",
     "output_type": "stream",
     "text": [
      "True\n",
      "perro\n",
      "3\n",
      "False\n",
      "8.4\n",
      "True\n",
      "2\n"
     ]
    }
   ],
   "source": [
    "class Pila:                                            #Creamos una clase llamada Pila\n",
    "     def __init__(self):                               #Creación de la pila\n",
    "         self.items = []\n",
    "\n",
    "     def estaVacia(self):                              #Verificamos si está vacio o no(Devolverá true o false)\n",
    "         return self.items == []\n",
    "\n",
    "     def incluir(self, item):                          #Usando append podemos incluir un elemento al final de la lista\n",
    "         self.items.append(item)\n",
    "\n",
    "     def extraer(self):                                #Extraemos(Eliminamos) el ultimo item de la pila usando pop(Recordemos que si no especificamos el indice del elemento a elimina, por defecto elimina el ultimo)\n",
    "         return self.items.pop()\n",
    "\n",
    "     def inspeccionar(self):                           #Permite inspeccionar/mostrar el ultimo elemento de la lista\n",
    "         return self.items[len(self.items)-1]\n",
    "\n",
    "     def tamano(self):                                 #Retorna el numero de elementos que tiene la pila\n",
    "         return len(self.items)\n",
    "     \n",
    "\n",
    "p=Pila()\n",
    "\n",
    "print(p.estaVacia())\n",
    "p.incluir(4)\n",
    "p.incluir('perro')\n",
    "print(p.inspeccionar())\n",
    "p.incluir(True)\n",
    "print(p.tamano())\n",
    "print(p.estaVacia())\n",
    "p.incluir(8.4)\n",
    "print(p.extraer())\n",
    "print(p.extraer())\n",
    "print(p.tamano())"
   ]
  },
  {
   "cell_type": "markdown",
   "metadata": {},
   "source": [
    "# Colas"
   ]
  },
  {
   "cell_type": "markdown",
   "metadata": {},
   "source": [
    "Son colecciones de elementos ordenados que únicamente permiten dos acciones:\n",
    "\n",
    "- Añadir un elemento a la cola.\n",
    "- Sacar un elemento de la cola.\n",
    "\n",
    "La peculiaridad es que el primer elemento en entrar es el primero en salir. En inglés se conocen como estructuras FIFO (First In First Out)."
   ]
  },
  {
   "cell_type": "markdown",
   "metadata": {},
   "source": [
    "- El método __init__ no recibirá parámetros adicionales, ya que deberá crear una cola vacía (que representaremos por una lista vacía):\n",
    "\n",
    "- El método encolar se implementará agregando el nuevo elemento al final de la lista:\n",
    "\n",
    "- Para implementar desencolar, se eliminará el primer elemento de la lista y se devolverá el valor del elemento eliminado, utilizaremos nuevamente el método pop, pero en este caso le pasaremos la posición 0, para que elimine el primer elemento, no el último. Si la cola está vacía se levantará una excepción.\n",
    "\n",
    "- Por último, el método es_vacia, que indicará si la cola está o no vacía.\n",
    "\n",
    "- tamano retorna el numero de elementos que tiene la cola"
   ]
  },
  {
   "cell_type": "code",
   "execution_count": 9,
   "metadata": {},
   "outputs": [
    {
     "name": "stdout",
     "output_type": "stream",
     "text": [
      "1\n"
     ]
    },
    {
     "data": {
      "text/plain": [
       "True"
      ]
     },
     "execution_count": 9,
     "metadata": {},
     "output_type": "execute_result"
    }
   ],
   "source": [
    "class Cola:\n",
    "    def __init__(self):\n",
    "        self.items = []\n",
    "\n",
    "    def es_vacia(self):\n",
    "        return self.items == []\n",
    "\n",
    "    def encolar(self, item):\n",
    "        self.items.append(item)\n",
    "\n",
    "    def desencolar(self):\n",
    "        return self.items.pop(0)\n",
    "\n",
    "    def tamano(self):\n",
    "        return len(self.items)\n",
    "    \n",
    "q=Cola()\n",
    "q.encolar(1)\n",
    "q.encolar(2)\n",
    "q.encolar(5)\n",
    "q.es_vacia()\n",
    "print(q.desencolar())\n",
    "q.desencolar()\n",
    "q.encolar(8)\n",
    "q.desencolar()\n",
    "q.desencolar()\n",
    "q.es_vacia()"
   ]
  },
  {
   "cell_type": "markdown",
   "metadata": {},
   "source": [
    "# Problema de Jhosefo"
   ]
  },
  {
   "cell_type": "code",
   "execution_count": 2,
   "metadata": {},
   "outputs": [
    {
     "name": "stdout",
     "output_type": "stream",
     "text": [
      "[3, 6, 2, 7, 5, 1, 4]\n"
     ]
    }
   ],
   "source": [
    "class Cola:\n",
    "    def __init__(self):\n",
    "        self.items = []\n",
    "\n",
    "    def es_vacia(self):\n",
    "        return self.items == []\n",
    "\n",
    "    def encolar(self, item):\n",
    "        self.items.append(item)\n",
    "\n",
    "    def desencolar(self):\n",
    "        return self.items.pop(0)\n",
    "\n",
    "    def tamano(self):\n",
    "        return len(self.items)\n",
    "\n",
    "def josephus(n, k):\n",
    "    sequence = []\n",
    "    cola = Cola()\n",
    "    for i in range(1, n + 1):\n",
    "        cola.encolar(i)\n",
    "    j = 1\n",
    "    while cola.tamano() > 1:\n",
    "        item = cola.desencolar()\n",
    "        if j % k == 0:\n",
    "            sequence.append(item)\n",
    "        else:\n",
    "            cola.encolar(item)\n",
    "        j += 1\n",
    "    sequence.append(cola.desencolar())\n",
    "    return sequence\n",
    "\n",
    "lista = josephus(7,3)\n",
    "print(lista)"
   ]
  }
 ],
 "metadata": {
  "kernelspec": {
   "display_name": "Python 3",
   "language": "python",
   "name": "python3"
  },
  "language_info": {
   "codemirror_mode": {
    "name": "ipython",
    "version": 3
   },
   "file_extension": ".py",
   "mimetype": "text/x-python",
   "name": "python",
   "nbconvert_exporter": "python",
   "pygments_lexer": "ipython3",
   "version": "3.13.0"
  }
 },
 "nbformat": 4,
 "nbformat_minor": 2
}

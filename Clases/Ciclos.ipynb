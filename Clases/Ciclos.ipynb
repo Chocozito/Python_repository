{
 "cells": [
  {
   "cell_type": "markdown",
   "metadata": {},
   "source": [
    "# Ciclos: While"
   ]
  },
  {
   "cell_type": "markdown",
   "metadata": {},
   "source": [
    "El bucle while de Python hace que se ejecute un bloque de código repetidamente mientras una condición sea verdadera. En Python, los bucles while se utilizan principalmente cuando el número de iteraciones necesarias no viene determinado de antemano."
   ]
  },
  {
   "cell_type": "code",
   "execution_count": null,
   "metadata": {},
   "outputs": [],
   "source": [
    "#Sintaxis:\n",
    "\n",
    "#while condition:\n",
    "    #Bloque de codigo a ejecutar si condition es verdadero()"
   ]
  },
  {
   "cell_type": "markdown",
   "metadata": {},
   "source": [
    "Se presenta el patrón general al ejecutar un bucle while de Python:\n",
    "\n",
    "- Se evalúa la condición.\n",
    "\n",
    "- Si la condición es verdadera, se ejecuta el cuerpo del bucle.\n",
    "\n",
    "- La condición se evalúa de nuevo:\n",
    "\n",
    "- Si la condición se sigue cumpliendo, se repite este proceso.\n",
    "\n",
    "- Si la condición es falsa, el bucle termina.\n",
    "\n",
    "- Al igual que la sentencia if, un bucle while en Python puede tener un bloque else opcional. El bloque else se ejecuta una vez si la condición es o se convierte en falsa"
   ]
  },
  {
   "cell_type": "code",
   "execution_count": null,
   "metadata": {},
   "outputs": [],
   "source": [
    "while False:\n",
    "    # this code doesn't loop\n",
    "    print(\"No me ejecutaré\")\n",
    "else:\n",
    "    # instead, this code runs once\n",
    "    print(\"Se puede usar else a un while\")"
   ]
  },
  {
   "cell_type": "markdown",
   "metadata": {},
   "source": [
    "Generalmente, un bucle while sigue iterando hasta que la condición del bucle deja de cumplirse. Un truco común es utilizar una variable “Flag/bandera” como condición. Para ello, se define una variable booleana fuera del bucle y se evalúa en la condición del bucle. Cuando se alcanza una determinada condición dentro del cuerpo del bucle se activa el Flag. Cuando la condición se evalúe previamente a la siguiente ejecución, el nuevo valor hará que el bucle finalice:"
   ]
  },
  {
   "cell_type": "code",
   "execution_count": 1,
   "metadata": {},
   "outputs": [
    {
     "name": "stdout",
     "output_type": "stream",
     "text": [
      "Probando...\n"
     ]
    }
   ],
   "source": [
    "band = False\n",
    "num = 5\n",
    "while not band:\n",
    "    print(\"Probando...\")\n",
    "    if num < 6:\n",
    "        # will prevent next iteration\n",
    "        band = True"
   ]
  },
  {
   "cell_type": "markdown",
   "metadata": {},
   "source": [
    "Si se ejecuta una sentencia break dentro de un bucle, este finaliza inmediatamente. Así pues, la sentencia break de los bucles es similar a la sentencia return de las funciones. Sin embargo, break no devuelve un valor. Es habitual utilizar la sentencia break para poner fin a un bucle infinito:"
   ]
  },
  {
   "cell_type": "code",
   "execution_count": 2,
   "metadata": {},
   "outputs": [
    {
     "name": "stdout",
     "output_type": "stream",
     "text": [
      "Probando...\n"
     ]
    }
   ],
   "source": [
    "num = 5\n",
    "while True:\n",
    "    print(\"Probando...\")\n",
    "    if num < 6:\n",
    "        break"
   ]
  },
  {
   "cell_type": "markdown",
   "metadata": {},
   "source": [
    "# Ejemplo de menu sencillo:"
   ]
  },
  {
   "cell_type": "code",
   "execution_count": null,
   "metadata": {},
   "outputs": [],
   "source": [
    "while True:\n",
    "    print(\"Presionar G para iniciar un nuevo juego\")\n",
    "    print(\"Presionar S para ver las estadisticas\")\n",
    "    print(\"Presionar M para ver el menú principal\")\n",
    "    print(\"Presionar Q para salir\")\n",
    "    \n",
    "    key_press = input(\"Your choice \\n\")[0].upper()\n",
    "    print(f\"Usted presionó {key_press}\")\n",
    "    \n",
    "    if key_press == \"G\":\n",
    "        # start game routines\n",
    "        print(\"Iniciando Juego …\")\n",
    "    elif key_press == \"S\":\n",
    "        # show stats\n",
    "        print(\"Mostrando estadisticas …\")\n",
    "    elif key_press == \"M\":\n",
    "        # back to main menu\n",
    "        print(\"Regresando al menú\")\n",
    "        continue\n",
    "    elif key_press == \"Q\":\n",
    "        # break out of loop\n",
    "        print(\"Saliendo...\")\n",
    "        break\n",
    "    else:\n",
    "        print(\"Comando no reconocido, intente nuevamente\")\n",
    "# `break` takes us here"
   ]
  },
  {
   "cell_type": "markdown",
   "metadata": {},
   "source": [
    "# Consumir una colección en Python con el bucle while\n",
    "\n",
    "Python ofrece el bucle for para iterar sobre los elementos de una colección. Al menos es así mientras no se cambie la colección desde el cuerpo interno del bucle. ¿Pero qué pasa si se realizan cambios a medida que se itera por los elementos? Es posible imaginar que se quieren eliminar elementos de la colección mientras se itera. En este caso, se dice que la colección se “consume”.\n",
    "\n",
    "Los bucles for pueden causar errores extraños si la colección subyacente cambia durante la iteración. El bucle while es el más adecuado para consumir una colección en Python. Se utiliza la colección directamente como una condición del bucle while. Mientras la colección contenga elementos, se evaluará como verdadera en el contexto booleano. Si la colección se encuentra vacía, el bucle finaliza:"
   ]
  },
  {
   "cell_type": "code",
   "execution_count": null,
   "metadata": {},
   "outputs": [],
   "source": [
    "pieces = ['x', 'o', 'o', 'o', 'x', 'o', 'x', 'x']\n",
    "while pieces: #Mientras la lista pieces tenga elementos el while lo considera como verdadero, cuando la lista está vacia el while lo toma como false y se detiene\n",
    "    piece = pieces.pop()\n",
    "    print(f\"Valor removido de la lista {piece}\")"
   ]
  },
  {
   "cell_type": "markdown",
   "metadata": {},
   "source": [
    "# Ejercicio:"
   ]
  },
  {
   "cell_type": "code",
   "execution_count": null,
   "metadata": {},
   "outputs": [],
   "source": [
    "#Generar un código para revisar los nombres contenidos en la lista, y guardarlos en diferentes listas,\n",
    "# de acuerdo a la inicial del nombre, use los comandos usandos anteriormente y barra los elementos usando \n",
    "# el comando \"for nombre in nombres_aleatorios:\" al final del proceso la lista inicial debe quedar vacia.\n",
    "\n",
    "nombres_aleatorios = [\"Ana\", \"Carlos\", \"David\", \"Elena\", \"Fernando\", \"Gabriela\",\n",
    "                      \"Hugo\", \"Isabel\", \"Juan\", \"Luis\", \"Lucía\",\n",
    "                      \"Lorena\", \"Manuel\", \"María\", \"Miguel\", \"Natalia\",\n",
    "                      \"Nicolás\", \"Nora\", \"Óscar\", \"Olivia\", \"Pablo\", \"Paula\",\n",
    "                      \"Pedro\", \"Raquel\", \"Rafael\", \"Renata\", \"Roberto\", \"Rosario\",\n",
    "                      \"Sara\", \"Sergio\", \"Silvia\", \"Tomás\", \"Teresa\", \"Víctor\", \"Verónica\",\n",
    "                      \"Ximena\", \"Xavier\", \"Yolanda\", \"Yenny\", \"Zaira\", \"Zoe\", \"Zacarías\"]\n",
    "\n",
    "clasificados_i = {}\n",
    "\n",
    "while nombres_aleatorios:\n",
    "    nombre = nombres_aleatorios.pop(0)\n",
    "    inicial = nombre[0].upper()\n",
    "\n",
    "    if inicial not in clasificados_i:\n",
    "        clasificados_i[inicial] = []\n",
    "        \n",
    "    clasificados_i[inicial].append(nombre)\n",
    "\n",
    "for inicial, lista_nombres in clasificados_i.items():\n",
    "    print(f\"Nombres que inician con {inicial} : {lista_nombres}\")\n",
    "\n",
    "print(f\"Lista original despues de hacer todo el proceso: {nombres_aleatorios}\")"
   ]
  },
  {
   "cell_type": "markdown",
   "metadata": {},
   "source": [
    "# Ciclo for:"
   ]
  },
  {
   "cell_type": "markdown",
   "metadata": {},
   "source": [
    "Si se sabe cuántas repeticiones se necesitan en el momento de la ejecución, el bucle for de Python ofrece el mejor resultado. Como ejemplo, se redacta el código de tal manera que muestre los nombres y edades de tres personas utilizando un bucle for. El código funciona sin duplicidades y contiene solo dos variables, independientemente del número de conjuntos de datos:"
   ]
  },
  {
   "cell_type": "code",
   "execution_count": null,
   "metadata": {},
   "outputs": [],
   "source": [
    "#for elemento in iterable:\n",
    "    # código a ejecutar para cada elemento\n",
    "\n",
    "#Elemento es la variable que toma el valor de cada elemento en la secuencia.\n",
    "#Iterable es un objeto iterable."
   ]
  },
  {
   "cell_type": "markdown",
   "metadata": {},
   "source": [
    "En cada iteración del ciclo for, la variable elemento toma el valor del siguiente elemento en la secuencia y el código indentado debajo de la declaración for se ejecuta para ese elemento. Este proceso se repite para cada elemento en la secuencia hasta que se han agotado todos los elementos.\n",
    "\n",
    "El ciclo for también admite la utilización de una declaración break para salir del ciclo en cualquier momento y una declaración continue para saltar a la siguiente iteración sin ejecutar el código que sigue en la iteración actual.\n",
    "\n",
    "Los objetos iterables o secuencias son aquellos que permiten la iteración o recorrido secuencial de sus elementos mediante un ciclo for.  Algunos ejemplos de objetos iterables comunes en Python son:"
   ]
  },
  {
   "cell_type": "code",
   "execution_count": null,
   "metadata": {},
   "outputs": [],
   "source": [
    "lista = [1, 2, 3, 4, 5]\n",
    "\n",
    "for elemento in lista:\n",
    "    print(elemento)"
   ]
  },
  {
   "cell_type": "code",
   "execution_count": null,
   "metadata": {},
   "outputs": [],
   "source": [
    "\n",
    "tupla = (6, 7, 8, 9, 10)\n",
    "\n",
    "for elemento in tupla:\n",
    "    print(elemento)"
   ]
  },
  {
   "cell_type": "code",
   "execution_count": null,
   "metadata": {},
   "outputs": [],
   "source": [
    "cadena = \"Hola, mundo!\"\n",
    "\n",
    "for caracter in cadena:\n",
    "    print(caracter)"
   ]
  },
  {
   "cell_type": "code",
   "execution_count": 19,
   "metadata": {},
   "outputs": [
    {
     "name": "stdout",
     "output_type": "stream",
     "text": [
      "nombre : Juan\n",
      "edad : 30\n",
      "ciudad : Madrid\n"
     ]
    }
   ],
   "source": [
    "diccionario = {\"nombre\": \"Juan\", \"edad\": 30, \"ciudad\": \"Madrid\"}\n",
    "\n",
    "for clave, valor in diccionario.items():\n",
    "    print(clave, \":\", valor)"
   ]
  },
  {
   "cell_type": "markdown",
   "metadata": {},
   "source": [
    "# Range\n",
    "\n",
    "El objeto range() es un tipo de objeto iterable que se usa comúnmente con el ciclo for. range(). Crea una secuencia inmutable de números enteros en un rango determinado.\n",
    "\n",
    "La sintaxis básica del objeto range() es la siguiente:\n",
    "\n",
    "range(start, stop-1, step)"
   ]
  },
  {
   "cell_type": "markdown",
   "metadata": {},
   "source": [
    "# Desempaquetado con el ciclo for:\n",
    "\n",
    "En Python, se puede usar el desempaquetado (unpacking) en un ciclo for para asignar los elementos de un objeto iterable a variables individuales en cada iteración del ciclo. Para hacer esto, se utiliza la sintaxis de asignación múltiple con una variable que represente cada elemento en el objeto iterable.\n",
    "\n",
    "Por ejemplo, si se tiene una lista con tuplas que contienen el nombre y la edad de una lista de personas, se puede usar el desempaquetado en un ciclo for para obtener cada nombre y edad por separado:"
   ]
  },
  {
   "cell_type": "code",
   "execution_count": 20,
   "metadata": {},
   "outputs": [
    {
     "name": "stdout",
     "output_type": "stream",
     "text": [
      "Nombre: Juan\n",
      "Edad: 25\n",
      "Nombre: María\n",
      "Edad: 30\n",
      "Nombre: Pedro\n",
      "Edad: 20\n"
     ]
    }
   ],
   "source": [
    "personas = [(\"Juan\", 25), (\"María\", 30), (\"Pedro\", 20)]\n",
    "\n",
    "for nombre, edad in personas:\n",
    "    print(\"Nombre:\", nombre)\n",
    "    print(\"Edad:\", edad)"
   ]
  },
  {
   "cell_type": "code",
   "execution_count": 14,
   "metadata": {},
   "outputs": [
    {
     "name": "stdout",
     "output_type": "stream",
     "text": [
      "Jim, 17 years old\n",
      "Jack, 42 years old\n",
      "John, 63 years old\n"
     ]
    }
   ],
   "source": [
    "people = ('Jim', 'Jack', 'John')\n",
    "ages = (17, 42, 63)\n",
    "for person, age in zip(people, ages):\n",
    "    #print(list(zip(people,ages)))\n",
    "    print(f\"{person}, {age} years old\")"
   ]
  },
  {
   "cell_type": "markdown",
   "metadata": {},
   "source": [
    "# Modificando la iteración del bucle for: break y continue\n",
    "\n",
    "Por último, vamos a ver que es posible alterar la iteración de un bucle for en Python. Para ello, nos valdremos de las sentencias break y continue. Pero, ¿qué hacen estas sentencias?\n",
    "\n",
    "break se utiliza para finalizar y salir el bucle, por ejemplo, si se cumple alguna condición.\n",
    "Por su parte, continue salta al siguiente paso de la iteración, ignorando todas las sentencias que le siguen y que forman parte del bucle."
   ]
  },
  {
   "cell_type": "code",
   "execution_count": 21,
   "metadata": {},
   "outputs": [
    {
     "name": "stdout",
     "output_type": "stream",
     "text": [
      "2\n",
      "4\n",
      "5\n"
     ]
    }
   ],
   "source": [
    "coleccion = [2, 4, 5, 7, 8, 9, 3, 4]\n",
    "for e in coleccion:\n",
    "    if e == 7:\n",
    "        break\n",
    "    print(e)"
   ]
  },
  {
   "cell_type": "code",
   "execution_count": 26,
   "metadata": {},
   "outputs": [
    {
     "name": "stdout",
     "output_type": "stream",
     "text": [
      "2\n",
      "4\n",
      "8\n",
      "4\n"
     ]
    }
   ],
   "source": [
    "coleccion = [2, 4, 5, 7, 8, 9, 3, 4]\n",
    "for e in coleccion:\n",
    "    if e % 2 != 0:\n",
    "        continue\n",
    "    print(e)"
   ]
  },
  {
   "cell_type": "markdown",
   "metadata": {},
   "source": [
    "En relación al apartado anterior, Python ofrece una estructura adicional de bucle for cuya estructura es la siguiente:\n",
    "\n",
    "Es decir, el código del bloque else se ejecutará siempre y cuando no se haya ejecutado la sentencia break dentro del bloque del for.\n",
    "Veamos un ejemplo:"
   ]
  },
  {
   "cell_type": "code",
   "execution_count": 40,
   "metadata": {},
   "outputs": [
    {
     "name": "stdout",
     "output_type": "stream",
     "text": [
      "Encontré el numero 3\n"
     ]
    }
   ],
   "source": [
    "numeros = [1, 2, 4, 3, 5, 8, 6]\n",
    "for n in numeros:\n",
    "    if n == 3:\n",
    "        print(\"Encontré el numero 3\")\n",
    "        break\n",
    "else:\n",
    "    print('No se encontró el número 3')"
   ]
  },
  {
   "cell_type": "code",
   "execution_count": 41,
   "metadata": {},
   "outputs": [
    {
     "name": "stdout",
     "output_type": "stream",
     "text": [
      "No se encontró el número 3\n"
     ]
    }
   ],
   "source": [
    "numeros = [1, 2, 4, 5, 8, 6]\n",
    "for n in numeros:\n",
    "    if n == 3:\n",
    "        print(\"Encontré el numero 3\")\n",
    "        break\n",
    "else:\n",
    "    print('No se encontró el número 3')"
   ]
  },
  {
   "cell_type": "markdown",
   "metadata": {},
   "source": [
    "# For anidados\n",
    "\n",
    "Es posible anidar los for, es decir, meter uno dentro de otro. Esto puede ser muy útil si queremos iterar algún objeto que en cada elemento, tiene a su vez otra clase iterable. Podemos tener por ejemplo, una lista de listas, una especie de matriz."
   ]
  },
  {
   "cell_type": "code",
   "execution_count": 42,
   "metadata": {},
   "outputs": [
    {
     "name": "stdout",
     "output_type": "stream",
     "text": [
      "[56, 34, 1]\n",
      "[12, 4, 5]\n",
      "[9, 4, 3]\n"
     ]
    }
   ],
   "source": [
    "lista = [[56, 34, 1],\n",
    "         [12, 4, 5],\n",
    "         [9, 4, 3]]\n",
    "\n",
    "for i in lista:\n",
    "    print(i)"
   ]
  },
  {
   "cell_type": "code",
   "execution_count": 46,
   "metadata": {},
   "outputs": [
    {
     "name": "stdout",
     "output_type": "stream",
     "text": [
      "56\n",
      "34\n",
      "1\n",
      "12\n",
      "4\n",
      "5\n",
      "9\n",
      "4\n",
      "3\n"
     ]
    }
   ],
   "source": [
    "lista = [[56, 34, 1],\n",
    "         [12, 4, 5],\n",
    "         [9, 4, 3]]\n",
    "\n",
    "for i in lista:\n",
    "    for j in i:\n",
    "        print(j)"
   ]
  }
 ],
 "metadata": {
  "kernelspec": {
   "display_name": "Python 3",
   "language": "python",
   "name": "python3"
  },
  "language_info": {
   "codemirror_mode": {
    "name": "ipython",
    "version": 3
   },
   "file_extension": ".py",
   "mimetype": "text/x-python",
   "name": "python",
   "nbconvert_exporter": "python",
   "pygments_lexer": "ipython3",
   "version": "3.13.0"
  }
 },
 "nbformat": 4,
 "nbformat_minor": 2
}
